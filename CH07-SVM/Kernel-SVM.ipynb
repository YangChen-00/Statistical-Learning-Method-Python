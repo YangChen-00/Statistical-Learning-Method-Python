{
 "cells": [
  {
   "cell_type": "markdown",
   "id": "e5e16d11",
   "metadata": {},
   "source": [
    "# 导入所需的包"
   ]
  },
  {
   "cell_type": "code",
   "execution_count": 1,
   "id": "908182df",
   "metadata": {},
   "outputs": [],
   "source": [
    "import torch"
   ]
  },
  {
   "cell_type": "markdown",
   "id": "d72f5685",
   "metadata": {},
   "source": [
    "# 生成数据集"
   ]
  },
  {
   "cell_type": "code",
   "execution_count": 2,
   "id": "0e118ca2",
   "metadata": {},
   "outputs": [],
   "source": [
    "def create_dataset(n_samples=1000):\n",
    "    x0 = torch.normal(2, 1, size=(n_samples // 2, 2), dtype=torch.float32)\n",
    "    y0 = -torch.ones(n_samples // 2, dtype=torch.float32)\n",
    "    x1 = torch.normal(-2, 1, size=(n_samples - n_samples // 2, 2), dtype=torch.float32)\n",
    "    y1 = torch.ones(n_samples - n_samples // 2, dtype=torch.float32)\n",
    "\n",
    "    # 合并数据x,y\n",
    "    x = torch.cat((x0, x1), 0)\n",
    "    y = torch.cat((y0, y1), 0)\n",
    "    return x, y"
   ]
  },
  {
   "cell_type": "markdown",
   "id": "818e0eef",
   "metadata": {},
   "source": [
    "# 定义SVM模型"
   ]
  },
  {
   "cell_type": "code",
   "execution_count": 4,
   "id": "e3a973f1",
   "metadata": {},
   "outputs": [],
   "source": [
    "class svm:\n",
    "    def __init__(self,toler=0.001,max_iter=100, kernel='linear'):\n",
    "        self.toler = toler\n",
    "        self.max_iter = max_iter\n",
    "        self._kernel = kernel\n",
    "\n",
    "    # 初始化模型\n",
    "    def init_args(self, features, labels):\n",
    "        self.m, self.n = features.shape\n",
    "        self.X = features\n",
    "        self.Y = labels\n",
    "        self.b = 0.0\n",
    "        # 将Ei保存在一个列表里\n",
    "        self.alpha = torch.ones(self.m)\n",
    "        self.E = torch.tensor([self._e(i) for i in range(self.m)], dtype=torch.float)\n",
    "        # 错误惩罚参数\n",
    "        self.C = 1.0\n",
    "\n",
    "    # kkt条件\n",
    "    def _kkt(self, i):\n",
    "        y_g = self._g(self.X[i]) * self.Y[i]\n",
    "        if self.alpha[i] == 0:\n",
    "            return y_g >= 1\n",
    "        elif 0 < self.alpha[i] < self.C:\n",
    "            return y_g == 1\n",
    "        else:\n",
    "            return y_g <= 1\n",
    "\n",
    "    # g(x)预测值，输入xi（X[i]）\n",
    "    def _g(self, xi):\n",
    "        return (self.alpha * self.Y * self.kernel(self.X, xi)).sum() + self.b\n",
    "\n",
    "    # 核函数,多项式添加二次项即可\n",
    "    def kernel(self, X_data, x2, gamma=1, r=0, d=3):\n",
    "        if len(X_data.shape) > 1:\n",
    "            res = []\n",
    "            for x1 in X_data:\n",
    "                res.append(self.kernel(x1, x2).item())\n",
    "            return torch.tensor(res, dtype=torch.float)\n",
    "        else:\n",
    "            x1 = X_data\n",
    "            if self._kernel == 'linear':\n",
    "                return (x1 * x2).sum()\n",
    "            elif self._kernel == 'poly':\n",
    "                return (gamma * (x1 * x2).sum() + r) ** d\n",
    "            return 0\n",
    "\n",
    "    # E（x）为g(x)对输入x的预测值和y的差\n",
    "    def _e(self, i):\n",
    "        return self._g(self.X[i]) - self.Y[i]\n",
    "\n",
    "    # 初始alpha\n",
    "    def _init_alpha(self):\n",
    "        # 外层循环首先遍历所有满足0<a<C的样本点，检验是否满足KKT\n",
    "        index_list = [i for i in range(self.m) if 0 < self.alpha[i] < self.C]\n",
    "        # 否则遍历整个训练集\n",
    "        non_satisfy_list = [i for i in range(self.m) if i not in index_list]\n",
    "        index_list.extend(non_satisfy_list)\n",
    "        for i in index_list:\n",
    "            if self._kkt(i):\n",
    "                continue\n",
    "            E1 = self.E[i]\n",
    "            # 如果E2是+，选择最小的；如果E2是负的，选择最大的\n",
    "            if E1 >= 0:\n",
    "                j = torch.argmin(self.E)\n",
    "            else:\n",
    "                j = torch.argmax(self.E)\n",
    "            return i, j\n",
    "        # return -1,-1\n",
    "\n",
    "    # 选择alpha参数\n",
    "    @staticmethod\n",
    "    def _compare(_alpha, L, H):\n",
    "        if _alpha > H:\n",
    "            return H\n",
    "        elif _alpha < L:\n",
    "            return L\n",
    "        else:\n",
    "            return _alpha\n",
    "    # 训练\n",
    "    def fit(self, features, labels):\n",
    "        self.init_args(features, labels)\n",
    "        for t in range(self.max_iter):\n",
    "            i1, i2 = self._init_alpha()\n",
    "            # if i1==-1 and i2==-1:\n",
    "            #     # 没有找到违背kkt条件的点\n",
    "            #     return\n",
    "            # 边界\n",
    "            if self.Y[i1] == self.Y[i2]:\n",
    "                L = max(0, self.alpha[i1] + self.alpha[i2] - self.C)\n",
    "                H = min(self.C, self.alpha[i1] + self.alpha[i2])\n",
    "            else:\n",
    "                L = max(0, self.alpha[i2] - self.alpha[i1])\n",
    "                H = min(self.C, self.C + self.alpha[i2] - self.alpha[i1])\n",
    "            E1 = self.E[i1]\n",
    "            E2 = self.E[i2]\n",
    "            # eta=K11+K22-2K12\n",
    "            eta = self.kernel(self.X[i1], self.X[i1]) + self.kernel(self.X[i2], self.X[i2]) - 2 * self.kernel(\n",
    "                self.X[i1], self.X[i2])\n",
    "            # 不懂为什么有下面这个判断，如果有读者知道不妨在评论区解释一下\n",
    "            if eta <= 0:\n",
    "                continue\n",
    "            alpha2_new_unc = self.alpha[i2] + self.Y[i2] * (E2 - E1) / eta\n",
    "            alpha2_new = self._compare(alpha2_new_unc, L, H)\n",
    "            alpha1_new = self.alpha[i1] + self.Y[i1] * self.Y[i2] * (self.alpha[i2] - alpha2_new)\n",
    "            b1_new = -E1 - self.Y[i1] * self.kernel(self.X[i1], self.X[i1]) * (alpha1_new - self.alpha[i1]) - self.Y[\n",
    "                i2] * self.kernel(self.X[i2], self.X[i1]) * (alpha2_new - self.alpha[i2]) + self.b\n",
    "            b2_new = -E2 - self.Y[i1] * self.kernel(self.X[i1], self.X[i2]) * (alpha1_new - self.alpha[i1]) - self.Y[\n",
    "                i2] * self.kernel(self.X[i2], self.X[i2]) * (alpha2_new - self.alpha[i2]) + self.b\n",
    "            if 0 < alpha1_new < self.C:\n",
    "                b_new = b1_new\n",
    "            elif 0 < alpha2_new < self.C:\n",
    "                b_new = b2_new\n",
    "            else:\n",
    "                # 选择中点\n",
    "                b_new = (b1_new + b2_new) / 2\n",
    "            # 更新参数\n",
    "            self.alpha[i1] = alpha1_new\n",
    "            self.alpha[i2] = alpha2_new\n",
    "            self.b = b_new\n",
    "            self.E[i1] = self._e(i1)\n",
    "            self.E[i2] = self._e(i2)\n",
    "            \n",
    "\n",
    "    def predict(self, X_data):\n",
    "        y_pred = []\n",
    "        for data in X_data:\n",
    "            r = (self.Y * self.alpha * self.kernel(self.X, data)).sum()\n",
    "            y_pred.append(torch.sign(r).item())\n",
    "        return torch.tensor(y_pred, dtype=torch.float)\n",
    "\n",
    "    def score(self, X_data, y_data):\n",
    "        y_pred = self.predict(X_data)\n",
    "        return (y_pred == y_data).sum() / len(y_data)"
   ]
  },
  {
   "cell_type": "markdown",
   "id": "1bc35db2",
   "metadata": {},
   "source": [
    "# 测试"
   ]
  },
  {
   "cell_type": "code",
   "execution_count": 6,
   "id": "dcc136f0",
   "metadata": {},
   "outputs": [
    {
     "data": {
      "text/plain": [
       "tensor(0.9950)"
      ]
     },
     "execution_count": 6,
     "metadata": {},
     "output_type": "execute_result"
    }
   ],
   "source": [
    "X, y = create_dataset(1000)\n",
    "model = svm(max_iter=100, kernel='linear')\n",
    "model.fit(X[:800], y[:800])\n",
    "model.score(X[800:], y[800:])"
   ]
  },
  {
   "cell_type": "code",
   "execution_count": null,
   "id": "ffb32140",
   "metadata": {},
   "outputs": [],
   "source": []
  }
 ],
 "metadata": {
  "kernelspec": {
   "display_name": "Python 3 (ipykernel)",
   "language": "python",
   "name": "python3"
  },
  "language_info": {
   "codemirror_mode": {
    "name": "ipython",
    "version": 3
   },
   "file_extension": ".py",
   "mimetype": "text/x-python",
   "name": "python",
   "nbconvert_exporter": "python",
   "pygments_lexer": "ipython3",
   "version": "3.8.13"
  }
 },
 "nbformat": 4,
 "nbformat_minor": 5
}
